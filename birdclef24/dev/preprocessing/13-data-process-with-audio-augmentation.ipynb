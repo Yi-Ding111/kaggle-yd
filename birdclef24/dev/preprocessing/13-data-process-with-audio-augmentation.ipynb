{
 "cells": [
  {
   "cell_type": "code",
   "execution_count": 1,
   "metadata": {},
   "outputs": [
    {
     "name": "stderr",
     "output_type": "stream",
     "text": [
      "/opt/homebrew/Caskroom/miniforge/base/envs/birdclef/lib/python3.10/site-packages/tqdm/auto.py:21: TqdmWarning: IProgress not found. Please update jupyter and ipywidgets. See https://ipywidgets.readthedocs.io/en/stable/user_install.html\n",
      "  from .autonotebook import tqdm as notebook_tqdm\n"
     ]
    }
   ],
   "source": [
    "import pandas as pd\n",
    "import numpy as np\n",
    "import glob\n",
    "import os\n",
    "import matplotlib.pyplot as plt\n",
    "import random\n",
    "from typing import List\n",
    "from torchaudio.transforms import MelSpectrogram, AmplitudeToDB\n",
    "\n",
    "import torchaudio\n",
    "\n",
    "import torch\n",
    "\n",
    "from torch.utils.data import DataLoader,TensorDataset\n",
    "\n",
    "import lightning as L\n",
    "\n",
    "from datasets import Dataset\n",
    "\n",
    "from pathlib import Path\n",
    "import multiprocessing"
   ]
  },
  {
   "cell_type": "markdown",
   "metadata": {},
   "source": [
    "### 1. Preprocess the metadata csv"
   ]
  },
  {
   "cell_type": "code",
   "execution_count": 2,
   "metadata": {},
   "outputs": [],
   "source": [
    "raw=pd.read_csv('../../data/train_metadata.csv',header=0)"
   ]
  },
  {
   "cell_type": "code",
   "execution_count": 3,
   "metadata": {},
   "outputs": [],
   "source": [
    "# 1. Check if there are missing values ​​in the `rating` column\n",
    "# 2. If there are null values, add 0 to fill them in\n",
    "# 3. After filling in, we randomly assign a value to all the 0 values\n",
    "# The higher the rating, the better the audio quality\n",
    "\n",
    "if raw['rating'].isna().sum()>0: # with missing values\n",
    "    raw['rating'].fillna(0, inplace=True)\n",
    "\n",
    "# Random assign a value to all places where the value is 0, and select from the specified choices\n",
    "mask = raw['rating'] == 0  # Create a boolean mask indicating which positions are 0\n",
    "\n",
    "choices=np.arange(0.5,5.1,0.5).tolist() # [0.5, 1.0, 1.5, 2.0, 2.5, 3.0, 3.5, 4.0, 4.5, 5.0]\n",
    "random_values = np.random.choice(choices, size=mask.sum())  # Generate random numbers for these 0 values\n",
    "raw.loc[mask, 'rating'] = random_values  # Fill the generated random numbers back into the corresponding positions of the original DataFrame\n",
    "\n"
   ]
  },
  {
   "cell_type": "code",
   "execution_count": 4,
   "metadata": {},
   "outputs": [
    {
     "data": {
      "text/plain": [
       "0"
      ]
     },
     "execution_count": 4,
     "metadata": {},
     "output_type": "execute_result"
    }
   ],
   "source": [
    "len(raw[raw['rating']==0])"
   ]
  },
  {
   "cell_type": "code",
   "execution_count": 5,
   "metadata": {},
   "outputs": [
    {
     "data": {
      "text/plain": [
       "0        1.0\n",
       "1        0.5\n",
       "2        0.5\n",
       "3        0.8\n",
       "4        0.8\n",
       "        ... \n",
       "24454    1.0\n",
       "24455    0.8\n",
       "24456    0.8\n",
       "24457    0.9\n",
       "24458    1.0\n",
       "Name: audio_weight, Length: 24459, dtype: float64"
      ]
     },
     "execution_count": 5,
     "metadata": {},
     "output_type": "execute_result"
    }
   ],
   "source": [
    "# Through rating, we calculate the rating of each audio and express it through weight. \n",
    "# The purpose of this is to improve the model by increasing the weight of high-quality audio and reducing the weight of low-quality audio.\n",
    "raw[\"audio_weight\"] = np.clip(raw[\"rating\"] / raw[\"rating\"].max(), 0.1, 1.0)\n",
    "\n",
    "raw.audio_weight"
   ]
  },
  {
   "cell_type": "code",
   "execution_count": 6,
   "metadata": {},
   "outputs": [
    {
     "data": {
      "text/plain": [
       "12"
      ]
     },
     "execution_count": 6,
     "metadata": {},
     "output_type": "execute_result"
    }
   ],
   "source": [
    "multiprocessing.cpu_count()"
   ]
  },
  {
   "cell_type": "code",
   "execution_count": 7,
   "metadata": {},
   "outputs": [
    {
     "name": "stdout",
     "output_type": "stream",
     "text": [
      "{'zitcis1': 6.994140404653026, 'lirplo': 6.994140404653026, 'litgre1': 6.994140404653026, 'comgre': 6.994140404653026, 'comkin1': 6.994140404653026, 'commoo3': 6.994140404653026, 'comros': 6.994140404653026, 'comsan': 6.994140404653026, 'eaywag1': 6.994140404653026, 'blrwar1': 6.994140404653026, 'houspa': 6.994140404653026, 'eucdov': 6.994140404653026, 'eurcoo': 6.994140404653026, 'hoopoe': 6.994140404653026, 'graher1': 6.994140404653026, 'grywag': 6.994140404653026, 'grewar3': 6.994140404653026, 'grnsan': 6.994140404653026, 'bcnher': 6.994140404653026, 'woosan': 6.994140404653026, 'barswa': 6.994140404653026, 'bkwsti': 6.994140404653026, 'rorpar': 7.631232815588468, 'litegr': 7.77126711628114, 'comtai1': 8.999448106698853, 'grtdro1': 9.379872834345315, 'greegr': 9.41379653579741, 'asikoe2': 9.430896997731349, 'purher1': 9.448090990124102, 'wemhar1': 9.465379368699734, 'kenplo1': 9.500242762483781, 'bkskit1': 9.553267785063618, 'commyn': 10.15886468290476, 'labcro1': 10.202002306597944, 'blakit1': 10.28995222938945, 'whiter2': 10.403156430469272, 'putbab1': 10.449495886678662, 'comior1': 10.568109173681417, 'gyhcaf1': 10.616698437569267, 'categr': 10.79219294543183, 'rocpig': 11.03116345469412, 'rerswa1': 11.114418699612816, 'rewbul': 11.375970218521953, 'whtkin2': 11.498295995964394, 'blnmon1': 11.890395405123137, 'whbwat1': 12.102110470670452, 'gargan': 12.249702638183768, 'grecou1': 12.249702638183768, 'spodov': 12.561846997953765, 'plapri1': 12.561846997953765, 'crseag1': 12.643684000244518, 'brnshr': 12.76949489995591, 'grnwar1': 13.124270603475052, 'blhori1': 13.17072834380783, 'houcro1': 13.265143375666108, 'piekin1': 13.361618416768549, 'rewlap1': 13.46022948458821, 'ruftre2': 13.877699779902374, 'bladro1': 13.988280809306053, 'pursun4': 13.988280809306053, 'copbar1': 14.044571905188139, 'litspi1': 14.101548090071011, 'stbkin1': 14.159223374090015, 'brnhao1': 14.159223374090015, 'nutman': 14.583790883091375, 'gybpri1': 14.583790883091375, 'brodro1': 14.647615218148903, 'laudov1': 14.71228491545852, 'ashdro1': 14.97980291635521, 'gloibi': 15.11915292093869, 'asbfly': 15.262465631176935, 'tibfly3': 15.335667325150617, 'thbwar1': 15.485287134795364, 'revbul': 15.561758153617578, 'shikra1': 15.961868624944888, 'ashpri1': 15.961868624944888, 'marsan': 16.305173892117004, 'lblwar1': 16.48534702900326, 'piebus1': 16.577702636948857, 'brcful1': 16.864370036979917, 'junbab2': 17.595669778008137, 'brwowl1': 17.595669778008137, 'litswi1': 17.822720068759164, 'cohcuc1': 17.93959161654526, 'whbwoo2': 18.058792872171715, 'oripip1': 18.560521483688944, 'compea': 18.692626506574342, 'grbeat1': 19.106535570127235, 'insbab1': 19.703758403870445, 'whrmun': 19.703758403870445, 'indpit1': 20.024165728308237, 'rossta2': 20.190344226882313, 'inbrob1': 20.3607298993405, 'grefla1': 20.535503318685038, 'btbeat1': 20.71485609792872, 'pursun3': 20.898991773357324, 'whcbar1': 20.898991773357324, 'gryfra': 20.898991773357324, 'emedov2': 21.482331485146947, 'whbbul2': 21.687908719269927, 'grejun2': 21.89950308326921, 'rufwoo2': 22.341961984260077, 'junowl1': 22.341961984260077, 'pabflo1': 22.812370664162657, 'mawthr1': 23.05899805508357, 'goflea1': 23.05899805508357, 'spepic1': 23.313801348843423, 'ashwoo2': 23.313801348843423, 'brakit1': 23.577242494328374, 'indrob1': 23.577242494328374, 'forwag1': 23.577242494328374, 'sohmyn1': 24.13207705227925, 'orihob2': 24.42459775737885, 'vefnut1': 24.42459775737885, 'grenig1': 24.42459775737885, 'cregos1': 24.728020543504893, 'ingori1': 24.728020543504893, 'purswa3': 25.04303987446105, 'placuc3': 25.370413767552986, 'grehor1': 25.710971472390032, 'vehpar1': 26.06562231497009, 'insowl1': 26.06562231497009, 'indrol2': 26.435365921972245, 'spoowl1': 26.435365921972245, 'whbwag1': 26.821304087258255, 'lewduc1': 27.22465460169914, 'comfla1': 27.646767442144117, 'bwfshr1': 28.089143810376278, 'maghor2': 28.553458634638293, 'yebbul3': 28.553458634638293, 'bkrfla1': 29.041587303442082, 'plhpar1': 29.555637605805668, 'yebbab1': 29.555637605805668, 'moipig1': 30.097988120286193, 'aspfly1': 30.671334650301233, 'aspswi1': 30.671334650301233, 'sbeowl1': 31.278746777964106, 'eurbla2': 31.923737249889776, 'sqtbul1': 31.923737249889776, 'crbsun2': 31.923737249889776, 'bkcbul1': 31.923737249889776, 'heswoo1': 33.343256098838445, 'whbsho3': 33.343256098838445, 'dafbab1': 33.343256098838445, 'chbeat1': 33.343256098838445, 'lesyel1': 33.343256098838445, 'whbtre1': 34.127910655565856, 'tilwar1': 34.127910655565856, 'smamin1': 34.97070202326513, 'barfly1': 34.97070202326513, 'grynig2': 34.97070202326513, 'plaflo1': 34.97070202326513, 'malpar1': 34.97070202326513, 'brwjac1': 34.97070202326513, 'lobsun2': 34.97070202326513, 'sttwoo1': 34.97070202326513, 'jerbus2': 35.87918323309052, 'maltro1': 37.93105200073355, 'rufbab3': 37.93105200073355, 'brfowl1': 37.93105200073355, 'isbduc1': 39.098433472455135, 'redspu1': 39.098433472455135, 'junmyn1': 40.38068845376463, 'kerlau2': 41.79798354671465, 'brasta1': 43.375817438539855, 'crfbar1': 43.375817438539855, 'inpher1': 43.375817438539855, 'indtit1': 45.14698218042929, 'scamin3': 45.14698218042929, 'malwoo1': 49.45604108700979, 'pomgrp2': 52.13124462994018, 'rutfly6': 55.293534884288235, 'nilfly2': 55.293534884288235, 'bncwoo3': 59.111275211611336, 'wbbfly1': 59.111275211611336, 'darter2': 59.111275211611336, 'paisto1': 59.111275211611336, 'blaeag1': 63.84747449977955, 'wynlau1': 63.84747449977955, 'niwpig1': 69.94140404653027, 'asiope1': 69.94140404653027, 'integr': 69.94140404653027}\n"
     ]
    }
   ],
   "source": [
    "# Because this is an unbalanced dataset, the amount of data in each category is very different\n",
    "# So I will calculate the weight of each category here\n",
    "# **(-0.5) The purpose is to reduce the relative influence of high-frequency categories and increase the influence of low-frequency categories, \n",
    "# so as to help the model better learn those uncommon categories\n",
    "\n",
    "# Calculate weights and convert to dictionary\n",
    "sample_weights_dict = (raw['primary_label'].value_counts() / raw['primary_label'].value_counts().sum()) ** (-0.5)\n",
    "sample_weights_dict = sample_weights_dict.to_dict()\n",
    "\n",
    "print(sample_weights_dict)\n"
   ]
  },
  {
   "cell_type": "markdown",
   "metadata": {},
   "source": [
    "### 2. Read ogg data and perform data augmentation and transformation"
   ]
  },
  {
   "cell_type": "code",
   "execution_count": 8,
   "metadata": {},
   "outputs": [],
   "source": [
    "# Select a single piece of data to operate first\n",
    "\n",
    "audio_path='../../data/train/asbfly/XC134896.ogg'"
   ]
  },
  {
   "cell_type": "code",
   "execution_count": 9,
   "metadata": {},
   "outputs": [],
   "source": [
    "# read ogg\n",
    "\n",
    "def read_audio(path: str):\n",
    "    \"\"\"\n",
    "    Read an OGG file using torchaudio and return the waveform tensor and sample rate.\n",
    "\n",
    "    Parameters:\n",
    "        path: Path to the .ogg file\n",
    "\n",
    "    Returns:\n",
    "        waveform: Tensor representing the waveform\n",
    "        sample_rate: Sample rate of the audio file\n",
    "    \"\"\"\n",
    "    audio, sample_rate = torchaudio.load(path)\n",
    "    return audio, sample_rate\n",
    "\n",
    "\n",
    "audio,sample_rate=read_audio(path=audio_path)"
   ]
  },
  {
   "cell_type": "code",
   "execution_count": 10,
   "metadata": {},
   "outputs": [
    {
     "name": "stdout",
     "output_type": "stream",
     "text": [
      "tensor([[ 1.3738e-06,  9.2571e-07, -2.7169e-06,  ...,  6.2166e-06,\n",
      "         -1.4831e-06, -3.4762e-06]])\n",
      "[ 1.3738349e-06  9.2570565e-07 -2.7168751e-06 ...  6.2165818e-06\n",
      " -1.4831421e-06 -3.4762072e-06]\n",
      "32000\n"
     ]
    }
   ],
   "source": [
    "print(audio)\n",
    "\n",
    "# change audio tensor to array\n",
    "print(audio[0].numpy())\n",
    "\n",
    "print(sample_rate)"
   ]
  },
  {
   "cell_type": "code",
   "execution_count": 11,
   "metadata": {},
   "outputs": [],
   "source": [
    "import colorednoise as cn\n",
    "import numpy as np\n",
    "import librosa\n",
    "import torch.nn as nn\n",
    "class AudioTransform:\n",
    "    def __init__(self, always_apply=False, p=0.5):\n",
    "        self.always_apply = always_apply\n",
    "        self.p = p\n",
    "\n",
    "    def __call__(self, y: np.ndarray):\n",
    "        if self.always_apply:\n",
    "            return self.apply(y)\n",
    "        else:\n",
    "            if np.random.rand() < self.p:\n",
    "                return self.apply(y)\n",
    "            else:\n",
    "                return y\n",
    "\n",
    "    def apply(self, y: np.ndarray):\n",
    "        raise NotImplementedError\n",
    "\n",
    "\n",
    "class CustomCompose:\n",
    "    def __init__(self, transforms: list):\n",
    "        self.transforms = transforms\n",
    "\n",
    "    def __call__(self, y: np.ndarray):\n",
    "        for trns in self.transforms:\n",
    "            y = trns(y)\n",
    "        return y\n",
    "\n",
    "\n",
    "class CustomOneOf:\n",
    "    def __init__(self, transforms: list, p=1.0):\n",
    "        self.transforms = transforms\n",
    "        self.p = p\n",
    "\n",
    "    def __call__(self, y: np.ndarray):\n",
    "        if np.random.rand() < self.p:\n",
    "            n_trns = len(self.transforms)\n",
    "            trns_idx = np.random.choice(n_trns)\n",
    "            trns = self.transforms[trns_idx]\n",
    "            y = trns(y)\n",
    "        return y\n",
    "\n",
    "\n",
    "class GaussianNoiseSNR(AudioTransform):\n",
    "    def __init__(self, always_apply=False, p=0.5, min_snr=5.0, max_snr=40.0, **kwargs):\n",
    "        super().__init__(always_apply, p)\n",
    "\n",
    "        self.min_snr = min_snr\n",
    "        self.max_snr = max_snr\n",
    "\n",
    "    def apply(self, y: np.ndarray, **params):\n",
    "        snr = np.random.uniform(self.min_snr, self.max_snr)\n",
    "        a_signal = np.sqrt(y**2).max()\n",
    "        a_noise = a_signal / (10 ** (snr / 20))\n",
    "\n",
    "        white_noise = np.random.randn(len(y))\n",
    "        a_white = np.sqrt(white_noise**2).max()\n",
    "        augmented = (y + white_noise * 1 / a_white * a_noise).astype(y.dtype)\n",
    "        return augmented\n",
    "\n",
    "\n",
    "class PinkNoiseSNR(AudioTransform):\n",
    "    def __init__(self, always_apply=False, p=0.5, min_snr=5.0, max_snr=20.0, **kwargs):\n",
    "        super().__init__(always_apply, p)\n",
    "\n",
    "        self.min_snr = min_snr\n",
    "        self.max_snr = max_snr\n",
    "\n",
    "    def apply(self, y: np.ndarray, **params):\n",
    "        snr = np.random.uniform(self.min_snr, self.max_snr)\n",
    "        a_signal = np.sqrt(y**2).max()\n",
    "        a_noise = a_signal / (10 ** (snr / 20))\n",
    "\n",
    "        pink_noise = cn.powerlaw_psd_gaussian(1, len(y))\n",
    "        a_pink = np.sqrt(pink_noise**2).max()\n",
    "        augmented = (y + pink_noise * 1 / a_pink * a_noise).astype(y.dtype)\n",
    "        return augmented\n",
    "\n",
    "\n",
    "class VolumeControl(AudioTransform):\n",
    "    def __init__(self, always_apply=False, p=0.5, db_limit=10, mode=\"uniform\"):\n",
    "        super().__init__(always_apply, p)\n",
    "\n",
    "        assert mode in [\n",
    "            \"uniform\",\n",
    "            \"fade\",\n",
    "            \"fade\",\n",
    "            \"cosine\",\n",
    "            \"sine\",\n",
    "        ], \"`mode` must be one of 'uniform', 'fade', 'cosine', 'sine'\"\n",
    "\n",
    "        self.db_limit = db_limit\n",
    "        self.mode = mode\n",
    "\n",
    "    def apply(self, y: np.ndarray, **params):\n",
    "        db = np.random.uniform(-self.db_limit, self.db_limit)\n",
    "        if self.mode == \"uniform\":\n",
    "            db_translated = 10 ** (db / 20)\n",
    "        elif self.mode == \"fade\":\n",
    "            lin = np.arange(len(y))[::-1] / (len(y) - 1)\n",
    "            db_translated = 10 ** (db * lin / 20)\n",
    "        elif self.mode == \"cosine\":\n",
    "            cosine = np.cos(np.arange(len(y)) / len(y) * np.pi * 2)\n",
    "            db_translated = 10 ** (db * cosine / 20)\n",
    "        else:\n",
    "            sine = np.sin(np.arange(len(y)) / len(y) * np.pi * 2)\n",
    "            db_translated = 10 ** (db * sine / 20)\n",
    "        augmented = y * db_translated\n",
    "        return augmented\n",
    "\n",
    "\n",
    "class NoiseInjection(AudioTransform):\n",
    "    def __init__(self, always_apply=False, p=0.5, max_noise_level=0.5, sr=32000):\n",
    "        super().__init__(always_apply, p)\n",
    "\n",
    "        self.noise_level = (0.0, max_noise_level)\n",
    "        self.sr = sr\n",
    "\n",
    "    def apply(self, y: np.ndarray, **params):\n",
    "        noise_level = np.random.uniform(*self.noise_level)\n",
    "        noise = np.random.randn(len(y))\n",
    "        augmented = (y + noise * noise_level).astype(y.dtype)\n",
    "        return augmented\n",
    "\n",
    "\n",
    "class GaussianNoise(AudioTransform):\n",
    "    def __init__(self, always_apply=False, p=0.5, min_snr=5, max_snr=20, sr=32000):\n",
    "        super().__init__(always_apply, p)\n",
    "\n",
    "        self.min_snr = min_snr\n",
    "        self.max_snr = max_snr\n",
    "        self.sr = sr\n",
    "\n",
    "    def apply(self, y: np.ndarray, **params):\n",
    "        snr = np.random.uniform(self.min_snr, self.max_snr)\n",
    "        a_signal = np.sqrt(y**2).max()\n",
    "        a_noise = a_signal / (10 ** (snr / 20))\n",
    "\n",
    "        white_noise = np.random.randn(len(y))\n",
    "        a_white = np.sqrt(white_noise**2).max()\n",
    "        augmented = (y + white_noise * 1 / a_white * a_noise).astype(y.dtype)\n",
    "        return augmented\n",
    "\n",
    "\n",
    "class PinkNoise(AudioTransform):\n",
    "    def __init__(self, always_apply=False, p=0.5, min_snr=5, max_snr=20, sr=32000):\n",
    "        super().__init__(always_apply, p)\n",
    "\n",
    "        self.min_snr = min_snr\n",
    "        self.max_snr = max_snr\n",
    "        self.sr = sr\n",
    "\n",
    "    def apply(self, y: np.ndarray, **params):\n",
    "        snr = np.random.uniform(self.min_snr, self.max_snr)\n",
    "        a_signal = np.sqrt(y**2).max()\n",
    "        a_noise = a_signal / (10 ** (snr / 20))\n",
    "\n",
    "        pink_noise = cn.powerlaw_psd_gaussian(1, len(y))\n",
    "        a_pink = np.sqrt(pink_noise**2).max()\n",
    "        augmented = (y + pink_noise * 1 / a_pink * a_noise).astype(y.dtype)\n",
    "        return augmented\n",
    "\n",
    "\n",
    "class TimeStretch(AudioTransform):\n",
    "    def __init__(self, always_apply=False, p=0.5, max_rate=1, sr=32000):\n",
    "        super().__init__(always_apply, p)\n",
    "        self.max_rate = max_rate\n",
    "        self.sr = sr\n",
    "\n",
    "    def apply(self, y: np.ndarray, **params):\n",
    "        rate = np.random.uniform(0, self.max_rate)\n",
    "        augmented = librosa.effects.time_stretch(y, rate)\n",
    "        return augmented\n",
    "\n",
    "\n",
    "def _db2float(db: float, amplitude=True):\n",
    "    if amplitude:\n",
    "        return 10 ** (db / 20)\n",
    "    else:\n",
    "        return 10 ** (db / 10)\n",
    "\n",
    "\n",
    "def volume_down(y: np.ndarray, db: float):\n",
    "    \"\"\"\n",
    "    Low level API for decreasing the volume\n",
    "    Parameters\n",
    "    ----------\n",
    "    y: numpy.ndarray\n",
    "        stereo / monaural input audio\n",
    "    db: float\n",
    "        how much decibel to decrease\n",
    "    Returns\n",
    "    -------\n",
    "    applied: numpy.ndarray\n",
    "        audio with decreased volume\n",
    "    \"\"\"\n",
    "    applied = y * _db2float(-db)\n",
    "    return applied\n",
    "\n",
    "\n",
    "def volume_up(y: np.ndarray, db: float):\n",
    "    \"\"\"\n",
    "    Low level API for increasing the volume\n",
    "    Parameters\n",
    "    ----------\n",
    "    y: numpy.ndarray\n",
    "        stereo / monaural input audio\n",
    "    db: float\n",
    "        how much decibel to increase\n",
    "    Returns\n",
    "    -------\n",
    "    applied: numpy.ndarray\n",
    "        audio with increased volume\n",
    "    \"\"\"\n",
    "    applied = y * _db2float(db)\n",
    "    return applied\n",
    "\n",
    "\n",
    "class RandomVolume(AudioTransform):\n",
    "    def __init__(self, always_apply=False, p=0.5, limit=10):\n",
    "        super().__init__(always_apply, p)\n",
    "        self.limit = limit\n",
    "\n",
    "    def apply(self, y: np.ndarray, **params):\n",
    "        db = np.random.uniform(-self.limit, self.limit)\n",
    "        if db >= 0:\n",
    "            return volume_up(y, db)\n",
    "        else:\n",
    "            return volume_down(y, db)\n",
    "\n",
    "\n",
    "class CosineVolume(AudioTransform):\n",
    "    def __init__(self, always_apply=False, p=0.5, limit=10):\n",
    "        super().__init__(always_apply, p)\n",
    "        self.limit = limit\n",
    "\n",
    "    def apply(self, y: np.ndarray, **params):\n",
    "        db = np.random.uniform(-self.limit, self.limit)\n",
    "        cosine = np.cos(np.arange(len(y)) / len(y) * np.pi * 2)\n",
    "        dbs = _db2float(cosine * db)\n",
    "        return y * dbs\n",
    "\n",
    "\n",
    "class AddGaussianNoise(AudioTransform):\n",
    "    \"\"\"Add gaussian noise to the samples\"\"\"\n",
    "\n",
    "    supports_multichannel = True\n",
    "\n",
    "    def __init__(\n",
    "        self, always_apply=False, min_amplitude=0.001, max_amplitude=0.015, p=0.5\n",
    "    ):\n",
    "        \"\"\"\n",
    "        :param min_amplitude: Minimum noise amplification factor\n",
    "        :param max_amplitude: Maximum noise amplification factor\n",
    "        :param p:\n",
    "        \"\"\"\n",
    "        super().__init__(always_apply, p)\n",
    "        assert min_amplitude > 0.0\n",
    "        assert max_amplitude > 0.0\n",
    "        assert max_amplitude >= min_amplitude\n",
    "        self.min_amplitude = min_amplitude\n",
    "        self.max_amplitude = max_amplitude\n",
    "\n",
    "    def apply(self, samples: np.ndarray, sample_rate=32000):\n",
    "        amplitude = np.random.uniform(self.min_amplitude, self.max_amplitude)\n",
    "        noise = np.random.randn(*samples.shape).astype(np.float32)\n",
    "        samples = samples + amplitude * noise\n",
    "        return samples\n",
    "\n",
    "\n",
    "class AddGaussianSNR(AudioTransform):\n",
    "    \"\"\"\n",
    "    Add gaussian noise to the input. A random Signal to Noise Ratio (SNR) will be picked\n",
    "    uniformly in the decibel scale. This aligns with human hearing, which is more\n",
    "    logarithmic than linear.\n",
    "    \"\"\"\n",
    "\n",
    "    supports_multichannel = True\n",
    "\n",
    "    def __init__(\n",
    "        self,\n",
    "        always_apply=False,\n",
    "        min_snr_in_db: float = 5.0,\n",
    "        max_snr_in_db: float = 40.0,\n",
    "        p: float = 0.5,\n",
    "    ):\n",
    "        \"\"\"\n",
    "        :param min_snr_in_db: Minimum signal-to-noise ratio in dB. A lower number means more noise.\n",
    "        :param max_snr_in_db: Maximum signal-to-noise ratio in dB. A greater number means less noise.\n",
    "        :param p: The probability of applying this transform\n",
    "        \"\"\"\n",
    "        super().__init__(always_apply, p)\n",
    "        self.min_snr_in_db = min_snr_in_db\n",
    "        self.max_snr_in_db = max_snr_in_db\n",
    "\n",
    "    def apply(self, samples: np.ndarray, sample_rate=32000):\n",
    "        snr = np.random.uniform(self.min_snr_in_db, self.max_snr_in_db)\n",
    "\n",
    "        clean_rms = np.sqrt(np.mean(np.square(samples)))\n",
    "\n",
    "        a = float(snr) / 20\n",
    "        noise_rms = clean_rms / (10**a)\n",
    "\n",
    "        noise = np.random.normal(0.0, noise_rms, size=samples.shape).astype(np.float32)\n",
    "        return samples + noise\n",
    "\n",
    "\n",
    "class Normalize(AudioTransform):\n",
    "    \"\"\"\n",
    "    Apply a constant amount of gain, so that highest signal level present in the sound becomes\n",
    "    0 dBFS, i.e. the loudest level allowed if all samples must be between -1 and 1. Also known\n",
    "    as peak normalization.\n",
    "    \"\"\"\n",
    "\n",
    "    supports_multichannel = True\n",
    "\n",
    "    def __init__(self, always_apply=False, apply_to: str = \"all\", p: float = 0.5):\n",
    "        super().__init__(always_apply, p)\n",
    "        assert apply_to in (\"all\", \"only_too_loud_sounds\")\n",
    "        self.apply_to = apply_to\n",
    "\n",
    "    def apply(self, samples: np.ndarray, sample_rate=32000):\n",
    "        max_amplitude = np.amax(np.abs(samples))\n",
    "        if self.apply_to == \"only_too_loud_sounds\" and max_amplitude < 1.0:\n",
    "            return samples\n",
    "\n",
    "        if max_amplitude > 0:\n",
    "            return samples / max_amplitude\n",
    "        else:\n",
    "            return samples\n",
    "\n",
    "class NormalizeMelSpec(nn.Module):\n",
    "    def __init__(self, eps=1e-6):\n",
    "        super().__init__()\n",
    "        self.eps = eps\n",
    "\n",
    "    def forward(self, X):\n",
    "        mean = X.mean((1, 2), keepdim=True)\n",
    "        std = X.std((1, 2), keepdim=True)\n",
    "        Xstd = (X - mean) / (std + self.eps)\n",
    "        norm_min, norm_max = Xstd.min(-1)[0].min(-1)[0], Xstd.max(-1)[0].max(-1)[0]\n",
    "        fix_ind = (norm_max - norm_min) > self.eps * torch.ones_like(\n",
    "            (norm_max - norm_min)\n",
    "        )\n",
    "        V = torch.zeros_like(Xstd)\n",
    "        if fix_ind.sum():\n",
    "            V_fix = Xstd[fix_ind]\n",
    "            norm_max_fix = norm_max[fix_ind, None, None]\n",
    "            norm_min_fix = norm_min[fix_ind, None, None]\n",
    "            V_fix = torch.max(\n",
    "                torch.min(V_fix, norm_max_fix),\n",
    "                norm_min_fix,\n",
    "            )\n",
    "            # print(V_fix.shape, norm_min_fix.shape, norm_max_fix.shape)\n",
    "            V_fix = (V_fix - norm_min_fix) / (norm_max_fix - norm_min_fix)\n",
    "            V[fix_ind] = V_fix\n",
    "        return V"
   ]
  },
  {
   "cell_type": "code",
   "execution_count": 12,
   "metadata": {},
   "outputs": [],
   "source": [
    "np_audio_transforms = CustomCompose(\n",
    "    [\n",
    "        CustomOneOf(\n",
    "            [\n",
    "                NoiseInjection(p=1, max_noise_level=0.04),\n",
    "                GaussianNoise(p=1, min_snr=5, max_snr=20),\n",
    "                PinkNoise(p=1, min_snr=5, max_snr=20),\n",
    "                AddGaussianNoise(min_amplitude=0.0001, max_amplitude=0.03, p=0.5),\n",
    "                AddGaussianSNR(min_snr_in_db=5, max_snr_in_db=15, p=0.5),\n",
    "            ],\n",
    "            p=0.3,  # It will only choose and apply a transformation 30% of the time. This means that 70% of the time, no transformation will be applied and the audio sample will remain as is. \n",
    "            # If you apply this combined transformation multiple times and choose to do nothing most of the time, you will observe that the data appears to be unchanged.\n",
    "        ),\n",
    "    ]\n",
    ")"
   ]
  },
  {
   "cell_type": "code",
   "execution_count": 13,
   "metadata": {},
   "outputs": [],
   "source": [
    "audio_aug=np_audio_transforms(audio[0].numpy())"
   ]
  },
  {
   "cell_type": "code",
   "execution_count": 14,
   "metadata": {},
   "outputs": [
    {
     "data": {
      "text/plain": [
       "array([ 0.01289594,  0.04626923,  0.00062103, ...,  0.03869209,\n",
       "        0.00367013, -0.00226219], dtype=float32)"
      ]
     },
     "execution_count": 14,
     "metadata": {},
     "output_type": "execute_result"
    }
   ],
   "source": [
    "audio_aug"
   ]
  },
  {
   "cell_type": "code",
   "execution_count": 15,
   "metadata": {},
   "outputs": [
    {
     "data": {
      "text/plain": [
       "array([ 1.3738349e-06,  9.2570565e-07, -2.7168751e-06, ...,\n",
       "        6.2165818e-06, -1.4831421e-06, -3.4762072e-06], dtype=float32)"
      ]
     },
     "execution_count": 15,
     "metadata": {},
     "output_type": "execute_result"
    }
   ],
   "source": [
    "audio[0].numpy()"
   ]
  },
  {
   "cell_type": "code",
   "execution_count": 16,
   "metadata": {},
   "outputs": [
    {
     "data": {
      "text/plain": [
       "Text(0, 0.5, 'Amplitude')"
      ]
     },
     "execution_count": 16,
     "metadata": {},
     "output_type": "execute_result"
    },
    {
     "data": {
      "image/png": "[encoded data removed]",
      "text/plain": [
       "<Figure size 1200x600 with 1 Axes>"
      ]
     },
     "metadata": {},
     "output_type": "display_data"
    }
   ],
   "source": [
    "plt.figure(figsize=(12, 6))\n",
    "plt.subplot(2, 1, 1)\n",
    "plt.plot(audio_aug)\n",
    "plt.title('Audio Waveform')\n",
    "plt.xlabel('Time')\n",
    "plt.ylabel('Amplitude')"
   ]
  },
  {
   "cell_type": "code",
   "execution_count": 17,
   "metadata": {},
   "outputs": [
    {
     "data": {
      "text/plain": [
       "Text(0, 0.5, 'Amplitude')"
      ]
     },
     "execution_count": 17,
     "metadata": {},
     "output_type": "execute_result"
    },
    {
     "data": {
      "image/png": "[encoded data removed]",
      "text/plain": [
       "<Figure size 1200x600 with 1 Axes>"
      ]
     },
     "metadata": {},
     "output_type": "display_data"
    }
   ],
   "source": [
    "plt.figure(figsize=(12, 6))\n",
    "plt.subplot(2, 1, 1) \n",
    "plt.plot(audio[0].numpy())\n",
    "plt.title('Audio Waveform')\n",
    "plt.xlabel('Time')\n",
    "plt.ylabel('Amplitude')"
   ]
  },
  {
   "cell_type": "code",
   "execution_count": 31,
   "metadata": {},
   "outputs": [
    {
     "data": {
      "text/plain": [
       "tensor([ 0.0129,  0.0463,  0.0006,  ...,  0.0387,  0.0037, -0.0023])"
      ]
     },
     "execution_count": 31,
     "metadata": {},
     "output_type": "execute_result"
    }
   ],
   "source": [
    "# convert from array to tensor\n",
    "audio_aug_tensor=torch.from_numpy(audio_aug)\n",
    "# This method does not copy data, the created tensor will share memory with the original NumPy array. This means that if you modify either one, the other will also be modified.\n",
    "audio_aug_tensor"
   ]
  },
  {
   "cell_type": "code",
   "execution_count": 32,
   "metadata": {},
   "outputs": [
    {
     "name": "stdout",
     "output_type": "stream",
     "text": [
      "tensor([[ 0.0129,  0.0463,  0.0006,  ...,  0.0387,  0.0037, -0.0023]])\n",
      "torch.Size([1, 875207])\n"
     ]
    }
   ],
   "source": [
    "audio_aug_tensor=audio_aug_tensor.unsqueeze(0)\n",
    "print(audio_aug_tensor)\n",
    "print(audio_aug_tensor.shape)"
   ]
  },
  {
   "cell_type": "code",
   "execution_count": 20,
   "metadata": {},
   "outputs": [],
   "source": [
    "# To create a data iterator that can randomly sample according to the specified weight.\n",
    "# This is often used to deal with class imbalance problems in data sets, balancing the training process by adjusting the probability of each sample being selected\n",
    "\n",
    "from torch.utils.data import Dataset, DataLoader, WeightedRandomSampler"
   ]
  },
  {
   "cell_type": "code",
   "execution_count": 21,
   "metadata": {},
   "outputs": [
    {
     "name": "stdout",
     "output_type": "stream",
     "text": [
      "{'zitcis1': 6.994140404653026, 'lirplo': 6.994140404653026, 'litgre1': 6.994140404653026, 'comgre': 6.994140404653026, 'comkin1': 6.994140404653026, 'commoo3': 6.994140404653026, 'comros': 6.994140404653026, 'comsan': 6.994140404653026, 'eaywag1': 6.994140404653026, 'blrwar1': 6.994140404653026, 'houspa': 6.994140404653026, 'eucdov': 6.994140404653026, 'eurcoo': 6.994140404653026, 'hoopoe': 6.994140404653026, 'graher1': 6.994140404653026, 'grywag': 6.994140404653026, 'grewar3': 6.994140404653026, 'grnsan': 6.994140404653026, 'bcnher': 6.994140404653026, 'woosan': 6.994140404653026, 'barswa': 6.994140404653026, 'bkwsti': 6.994140404653026, 'rorpar': 7.631232815588468, 'litegr': 7.77126711628114, 'comtai1': 8.999448106698853, 'grtdro1': 9.379872834345315, 'greegr': 9.41379653579741, 'asikoe2': 9.430896997731349, 'purher1': 9.448090990124102, 'wemhar1': 9.465379368699734, 'kenplo1': 9.500242762483781, 'bkskit1': 9.553267785063618, 'commyn': 10.15886468290476, 'labcro1': 10.202002306597944, 'blakit1': 10.28995222938945, 'whiter2': 10.403156430469272, 'putbab1': 10.449495886678662, 'comior1': 10.568109173681417, 'gyhcaf1': 10.616698437569267, 'categr': 10.79219294543183, 'rocpig': 11.03116345469412, 'rerswa1': 11.114418699612816, 'rewbul': 11.375970218521953, 'whtkin2': 11.498295995964394, 'blnmon1': 11.890395405123137, 'whbwat1': 12.102110470670452, 'gargan': 12.249702638183768, 'grecou1': 12.249702638183768, 'spodov': 12.561846997953765, 'plapri1': 12.561846997953765, 'crseag1': 12.643684000244518, 'brnshr': 12.76949489995591, 'grnwar1': 13.124270603475052, 'blhori1': 13.17072834380783, 'houcro1': 13.265143375666108, 'piekin1': 13.361618416768549, 'rewlap1': 13.46022948458821, 'ruftre2': 13.877699779902374, 'bladro1': 13.988280809306053, 'pursun4': 13.988280809306053, 'copbar1': 14.044571905188139, 'litspi1': 14.101548090071011, 'stbkin1': 14.159223374090015, 'brnhao1': 14.159223374090015, 'nutman': 14.583790883091375, 'gybpri1': 14.583790883091375, 'brodro1': 14.647615218148903, 'laudov1': 14.71228491545852, 'ashdro1': 14.97980291635521, 'gloibi': 15.11915292093869, 'asbfly': 15.262465631176935, 'tibfly3': 15.335667325150617, 'thbwar1': 15.485287134795364, 'revbul': 15.561758153617578, 'shikra1': 15.961868624944888, 'ashpri1': 15.961868624944888, 'marsan': 16.305173892117004, 'lblwar1': 16.48534702900326, 'piebus1': 16.577702636948857, 'brcful1': 16.864370036979917, 'junbab2': 17.595669778008137, 'brwowl1': 17.595669778008137, 'litswi1': 17.822720068759164, 'cohcuc1': 17.93959161654526, 'whbwoo2': 18.058792872171715, 'oripip1': 18.560521483688944, 'compea': 18.692626506574342, 'grbeat1': 19.106535570127235, 'insbab1': 19.703758403870445, 'whrmun': 19.703758403870445, 'indpit1': 20.024165728308237, 'rossta2': 20.190344226882313, 'inbrob1': 20.3607298993405, 'grefla1': 20.535503318685038, 'btbeat1': 20.71485609792872, 'pursun3': 20.898991773357324, 'whcbar1': 20.898991773357324, 'gryfra': 20.898991773357324, 'emedov2': 21.482331485146947, 'whbbul2': 21.687908719269927, 'grejun2': 21.89950308326921, 'rufwoo2': 22.341961984260077, 'junowl1': 22.341961984260077, 'pabflo1': 22.812370664162657, 'mawthr1': 23.05899805508357, 'goflea1': 23.05899805508357, 'spepic1': 23.313801348843423, 'ashwoo2': 23.313801348843423, 'brakit1': 23.577242494328374, 'indrob1': 23.577242494328374, 'forwag1': 23.577242494328374, 'sohmyn1': 24.13207705227925, 'orihob2': 24.42459775737885, 'vefnut1': 24.42459775737885, 'grenig1': 24.42459775737885, 'cregos1': 24.728020543504893, 'ingori1': 24.728020543504893, 'purswa3': 25.04303987446105, 'placuc3': 25.370413767552986, 'grehor1': 25.710971472390032, 'vehpar1': 26.06562231497009, 'insowl1': 26.06562231497009, 'indrol2': 26.435365921972245, 'spoowl1': 26.435365921972245, 'whbwag1': 26.821304087258255, 'lewduc1': 27.22465460169914, 'comfla1': 27.646767442144117, 'bwfshr1': 28.089143810376278, 'maghor2': 28.553458634638293, 'yebbul3': 28.553458634638293, 'bkrfla1': 29.041587303442082, 'plhpar1': 29.555637605805668, 'yebbab1': 29.555637605805668, 'moipig1': 30.097988120286193, 'aspfly1': 30.671334650301233, 'aspswi1': 30.671334650301233, 'sbeowl1': 31.278746777964106, 'eurbla2': 31.923737249889776, 'sqtbul1': 31.923737249889776, 'crbsun2': 31.923737249889776, 'bkcbul1': 31.923737249889776, 'heswoo1': 33.343256098838445, 'whbsho3': 33.343256098838445, 'dafbab1': 33.343256098838445, 'chbeat1': 33.343256098838445, 'lesyel1': 33.343256098838445, 'whbtre1': 34.127910655565856, 'tilwar1': 34.127910655565856, 'smamin1': 34.97070202326513, 'barfly1': 34.97070202326513, 'grynig2': 34.97070202326513, 'plaflo1': 34.97070202326513, 'malpar1': 34.97070202326513, 'brwjac1': 34.97070202326513, 'lobsun2': 34.97070202326513, 'sttwoo1': 34.97070202326513, 'jerbus2': 35.87918323309052, 'maltro1': 37.93105200073355, 'rufbab3': 37.93105200073355, 'brfowl1': 37.93105200073355, 'isbduc1': 39.098433472455135, 'redspu1': 39.098433472455135, 'junmyn1': 40.38068845376463, 'kerlau2': 41.79798354671465, 'brasta1': 43.375817438539855, 'crfbar1': 43.375817438539855, 'inpher1': 43.375817438539855, 'indtit1': 45.14698218042929, 'scamin3': 45.14698218042929, 'malwoo1': 49.45604108700979, 'pomgrp2': 52.13124462994018, 'rutfly6': 55.293534884288235, 'nilfly2': 55.293534884288235, 'bncwoo3': 59.111275211611336, 'wbbfly1': 59.111275211611336, 'darter2': 59.111275211611336, 'paisto1': 59.111275211611336, 'blaeag1': 63.84747449977955, 'wynlau1': 63.84747449977955, 'niwpig1': 69.94140404653027, 'asiope1': 69.94140404653027, 'integr': 69.94140404653027}\n",
      "dict_keys(['zitcis1', 'lirplo', 'litgre1', 'comgre', 'comkin1', 'commoo3', 'comros', 'comsan', 'eaywag1', 'blrwar1', 'houspa', 'eucdov', 'eurcoo', 'hoopoe', 'graher1', 'grywag', 'grewar3', 'grnsan', 'bcnher', 'woosan', 'barswa', 'bkwsti', 'rorpar', 'litegr', 'comtai1', 'grtdro1', 'greegr', 'asikoe2', 'purher1', 'wemhar1', 'kenplo1', 'bkskit1', 'commyn', 'labcro1', 'blakit1', 'whiter2', 'putbab1', 'comior1', 'gyhcaf1', 'categr', 'rocpig', 'rerswa1', 'rewbul', 'whtkin2', 'blnmon1', 'whbwat1', 'gargan', 'grecou1', 'spodov', 'plapri1', 'crseag1', 'brnshr', 'grnwar1', 'blhori1', 'houcro1', 'piekin1', 'rewlap1', 'ruftre2', 'bladro1', 'pursun4', 'copbar1', 'litspi1', 'stbkin1', 'brnhao1', 'nutman', 'gybpri1', 'brodro1', 'laudov1', 'ashdro1', 'gloibi', 'asbfly', 'tibfly3', 'thbwar1', 'revbul', 'shikra1', 'ashpri1', 'marsan', 'lblwar1', 'piebus1', 'brcful1', 'junbab2', 'brwowl1', 'litswi1', 'cohcuc1', 'whbwoo2', 'oripip1', 'compea', 'grbeat1', 'insbab1', 'whrmun', 'indpit1', 'rossta2', 'inbrob1', 'grefla1', 'btbeat1', 'pursun3', 'whcbar1', 'gryfra', 'emedov2', 'whbbul2', 'grejun2', 'rufwoo2', 'junowl1', 'pabflo1', 'mawthr1', 'goflea1', 'spepic1', 'ashwoo2', 'brakit1', 'indrob1', 'forwag1', 'sohmyn1', 'orihob2', 'vefnut1', 'grenig1', 'cregos1', 'ingori1', 'purswa3', 'placuc3', 'grehor1', 'vehpar1', 'insowl1', 'indrol2', 'spoowl1', 'whbwag1', 'lewduc1', 'comfla1', 'bwfshr1', 'maghor2', 'yebbul3', 'bkrfla1', 'plhpar1', 'yebbab1', 'moipig1', 'aspfly1', 'aspswi1', 'sbeowl1', 'eurbla2', 'sqtbul1', 'crbsun2', 'bkcbul1', 'heswoo1', 'whbsho3', 'dafbab1', 'chbeat1', 'lesyel1', 'whbtre1', 'tilwar1', 'smamin1', 'barfly1', 'grynig2', 'plaflo1', 'malpar1', 'brwjac1', 'lobsun2', 'sttwoo1', 'jerbus2', 'maltro1', 'rufbab3', 'brfowl1', 'isbduc1', 'redspu1', 'junmyn1', 'kerlau2', 'brasta1', 'crfbar1', 'inpher1', 'indtit1', 'scamin3', 'malwoo1', 'pomgrp2', 'rutfly6', 'nilfly2', 'bncwoo3', 'wbbfly1', 'darter2', 'paisto1', 'blaeag1', 'wynlau1', 'niwpig1', 'asiope1', 'integr'])\n",
      "dict_values([6.994140404653026, 6.994140404653026, 6.994140404653026, 6.994140404653026, 6.994140404653026, 6.994140404653026, 6.994140404653026, 6.994140404653026, 6.994140404653026, 6.994140404653026, 6.994140404653026, 6.994140404653026, 6.994140404653026, 6.994140404653026, 6.994140404653026, 6.994140404653026, 6.994140404653026, 6.994140404653026, 6.994140404653026, 6.994140404653026, 6.994140404653026, 6.994140404653026, 7.631232815588468, 7.77126711628114, 8.999448106698853, 9.379872834345315, 9.41379653579741, 9.430896997731349, 9.448090990124102, 9.465379368699734, 9.500242762483781, 9.553267785063618, 10.15886468290476, 10.202002306597944, 10.28995222938945, 10.403156430469272, 10.449495886678662, 10.568109173681417, 10.616698437569267, 10.79219294543183, 11.03116345469412, 11.114418699612816, 11.375970218521953, 11.498295995964394, 11.890395405123137, 12.102110470670452, 12.249702638183768, 12.249702638183768, 12.561846997953765, 12.561846997953765, 12.643684000244518, 12.76949489995591, 13.124270603475052, 13.17072834380783, 13.265143375666108, 13.361618416768549, 13.46022948458821, 13.877699779902374, 13.988280809306053, 13.988280809306053, 14.044571905188139, 14.101548090071011, 14.159223374090015, 14.159223374090015, 14.583790883091375, 14.583790883091375, 14.647615218148903, 14.71228491545852, 14.97980291635521, 15.11915292093869, 15.262465631176935, 15.335667325150617, 15.485287134795364, 15.561758153617578, 15.961868624944888, 15.961868624944888, 16.305173892117004, 16.48534702900326, 16.577702636948857, 16.864370036979917, 17.595669778008137, 17.595669778008137, 17.822720068759164, 17.93959161654526, 18.058792872171715, 18.560521483688944, 18.692626506574342, 19.106535570127235, 19.703758403870445, 19.703758403870445, 20.024165728308237, 20.190344226882313, 20.3607298993405, 20.535503318685038, 20.71485609792872, 20.898991773357324, 20.898991773357324, 20.898991773357324, 21.482331485146947, 21.687908719269927, 21.89950308326921, 22.341961984260077, 22.341961984260077, 22.812370664162657, 23.05899805508357, 23.05899805508357, 23.313801348843423, 23.313801348843423, 23.577242494328374, 23.577242494328374, 23.577242494328374, 24.13207705227925, 24.42459775737885, 24.42459775737885, 24.42459775737885, 24.728020543504893, 24.728020543504893, 25.04303987446105, 25.370413767552986, 25.710971472390032, 26.06562231497009, 26.06562231497009, 26.435365921972245, 26.435365921972245, 26.821304087258255, 27.22465460169914, 27.646767442144117, 28.089143810376278, 28.553458634638293, 28.553458634638293, 29.041587303442082, 29.555637605805668, 29.555637605805668, 30.097988120286193, 30.671334650301233, 30.671334650301233, 31.278746777964106, 31.923737249889776, 31.923737249889776, 31.923737249889776, 31.923737249889776, 33.343256098838445, 33.343256098838445, 33.343256098838445, 33.343256098838445, 33.343256098838445, 34.127910655565856, 34.127910655565856, 34.97070202326513, 34.97070202326513, 34.97070202326513, 34.97070202326513, 34.97070202326513, 34.97070202326513, 34.97070202326513, 34.97070202326513, 35.87918323309052, 37.93105200073355, 37.93105200073355, 37.93105200073355, 39.098433472455135, 39.098433472455135, 40.38068845376463, 41.79798354671465, 43.375817438539855, 43.375817438539855, 43.375817438539855, 45.14698218042929, 45.14698218042929, 49.45604108700979, 52.13124462994018, 55.293534884288235, 55.293534884288235, 59.111275211611336, 59.111275211611336, 59.111275211611336, 59.111275211611336, 63.84747449977955, 63.84747449977955, 69.94140404653027, 69.94140404653027, 69.94140404653027])\n"
     ]
    }
   ],
   "source": [
    "# we have calculated the weight of each category previously\n",
    "\n",
    "print(sample_weights_dict)\n",
    "print(sample_weights_dict.keys())\n",
    "print(sample_weights_dict.values())"
   ]
  },
  {
   "cell_type": "code",
   "execution_count": 22,
   "metadata": {},
   "outputs": [
    {
     "name": "stdout",
     "output_type": "stream",
     "text": [
      "tensor([ 6.9941,  6.9941,  6.9941,  6.9941,  6.9941,  6.9941,  6.9941,  6.9941,\n",
      "         6.9941,  6.9941,  6.9941,  6.9941,  6.9941,  6.9941,  6.9941,  6.9941,\n",
      "         6.9941,  6.9941,  6.9941,  6.9941,  6.9941,  6.9941,  7.6312,  7.7713,\n",
      "         8.9994,  9.3799,  9.4138,  9.4309,  9.4481,  9.4654,  9.5002,  9.5533,\n",
      "        10.1589, 10.2020, 10.2900, 10.4032, 10.4495, 10.5681, 10.6167, 10.7922,\n",
      "        11.0312, 11.1144, 11.3760, 11.4983, 11.8904, 12.1021, 12.2497, 12.2497,\n",
      "        12.5618, 12.5618, 12.6437, 12.7695, 13.1243, 13.1707, 13.2651, 13.3616,\n",
      "        13.4602, 13.8777, 13.9883, 13.9883, 14.0446, 14.1015, 14.1592, 14.1592,\n",
      "        14.5838, 14.5838, 14.6476, 14.7123, 14.9798, 15.1192, 15.2625, 15.3357,\n",
      "        15.4853, 15.5618, 15.9619, 15.9619, 16.3052, 16.4853, 16.5777, 16.8644,\n",
      "        17.5957, 17.5957, 17.8227, 17.9396, 18.0588, 18.5605, 18.6926, 19.1065,\n",
      "        19.7038, 19.7038, 20.0242, 20.1903, 20.3607, 20.5355, 20.7149, 20.8990,\n",
      "        20.8990, 20.8990, 21.4823, 21.6879, 21.8995, 22.3420, 22.3420, 22.8124,\n",
      "        23.0590, 23.0590, 23.3138, 23.3138, 23.5772, 23.5772, 23.5772, 24.1321,\n",
      "        24.4246, 24.4246, 24.4246, 24.7280, 24.7280, 25.0430, 25.3704, 25.7110,\n",
      "        26.0656, 26.0656, 26.4354, 26.4354, 26.8213, 27.2247, 27.6468, 28.0891,\n",
      "        28.5535, 28.5535, 29.0416, 29.5556, 29.5556, 30.0980, 30.6713, 30.6713,\n",
      "        31.2787, 31.9237, 31.9237, 31.9237, 31.9237, 33.3433, 33.3433, 33.3433,\n",
      "        33.3433, 33.3433, 34.1279, 34.1279, 34.9707, 34.9707, 34.9707, 34.9707,\n",
      "        34.9707, 34.9707, 34.9707, 34.9707, 35.8792, 37.9311, 37.9311, 37.9311,\n",
      "        39.0984, 39.0984, 40.3807, 41.7980, 43.3758, 43.3758, 43.3758, 45.1470,\n",
      "        45.1470, 49.4560, 52.1312, 55.2935, 55.2935, 59.1113, 59.1113, 59.1113,\n",
      "        59.1113, 63.8475, 63.8475, 69.9414, 69.9414, 69.9414],\n",
      "       dtype=torch.float64)\n",
      "torch.Size([182])\n"
     ]
    }
   ],
   "source": [
    "sample_weight_values=np.array(list(sample_weights_dict.values()))\n",
    "sample_weight_values=torch.from_numpy(sample_weight_values)\n",
    "print(sample_weight_values)\n",
    "print(sample_weight_values.shape)"
   ]
  },
  {
   "cell_type": "code",
   "execution_count": 23,
   "metadata": {},
   "outputs": [],
   "source": [
    "sampler = WeightedRandomSampler(sample_weight_values.type('torch.DoubleTensor'), len(sample_weights_dict.values()),replacement=True)"
   ]
  },
  {
   "cell_type": "code",
   "execution_count": 24,
   "metadata": {},
   "outputs": [
    {
     "data": {
      "text/plain": [
       "<torch.utils.data.sampler.WeightedRandomSampler at 0x281ff20b0>"
      ]
     },
     "execution_count": 24,
     "metadata": {},
     "output_type": "execute_result"
    }
   ],
   "source": [
    "sampler"
   ]
  },
  {
   "cell_type": "code",
   "execution_count": 25,
   "metadata": {},
   "outputs": [],
   "source": [
    "# This sampler can be used in dataloader for sampling.\n",
    "# DataLoader(dataset, batch_size=1, shuffle=False, sampler=None）"
   ]
  },
  {
   "cell_type": "code",
   "execution_count": 26,
   "metadata": {},
   "outputs": [
    {
     "data": {
      "text/plain": [
       "primary_label\n",
       "zitcis1     6.994140\n",
       "lirplo      6.994140\n",
       "litgre1     6.994140\n",
       "comgre      6.994140\n",
       "comkin1     6.994140\n",
       "             ...    \n",
       "blaeag1    63.847474\n",
       "wynlau1    63.847474\n",
       "niwpig1    69.941404\n",
       "asiope1    69.941404\n",
       "integr     69.941404\n",
       "Name: count, Length: 182, dtype: float64"
      ]
     },
     "execution_count": 26,
     "metadata": {},
     "output_type": "execute_result"
    }
   ],
   "source": [
    "# Because if you want to use WeightedRandomSampler, the given weights should be consistent with the number of samples in your dataset, so we need to modify the above operation\n",
    "\n",
    "sample_weights = (raw['primary_label'].value_counts() / raw['primary_label'].value_counts().sum()) ** (-0.5)\n",
    "\n",
    "sample_weights"
   ]
  },
  {
   "cell_type": "code",
   "execution_count": 27,
   "metadata": {},
   "outputs": [
    {
     "data": {
      "text/plain": [
       "0        15.262466\n",
       "1        15.262466\n",
       "2        15.262466\n",
       "3        15.262466\n",
       "4        15.262466\n",
       "           ...    \n",
       "24454     6.994140\n",
       "24455     6.994140\n",
       "24456     6.994140\n",
       "24457     6.994140\n",
       "24458     6.994140\n",
       "Name: primary_label, Length: 24459, dtype: float64"
      ]
     },
     "execution_count": 27,
     "metadata": {},
     "output_type": "execute_result"
    }
   ],
   "source": [
    "# Map weights to each row of the original data\n",
    "sample_weights_map = raw['primary_label'].map(sample_weights)\n",
    "\n",
    "sample_weights_map"
   ]
  },
  {
   "cell_type": "code",
   "execution_count": 28,
   "metadata": {},
   "outputs": [],
   "source": [
    "# Convert a pandas Series to a NumPy array\n",
    "sample_weights_np = sample_weights_map.to_numpy(dtype=np.float32)\n",
    "\n",
    "# Convert NumPy arrays to PyTorch tensors using torch.from_numpy\n",
    "sample_weights_tensor = torch.from_numpy(sample_weights_np)"
   ]
  },
  {
   "cell_type": "code",
   "execution_count": 29,
   "metadata": {},
   "outputs": [
    {
     "data": {
      "text/plain": [
       "<torch.utils.data.sampler.WeightedRandomSampler at 0x2819228c0>"
      ]
     },
     "execution_count": 29,
     "metadata": {},
     "output_type": "execute_result"
    }
   ],
   "source": [
    "#Create a sampler based on the newly obtained weight list\n",
    "sampler = WeightedRandomSampler(sample_weights_tensor.type('torch.DoubleTensor'), len(sample_weights_tensor),replacement=True)\n",
    "\n",
    "sampler"
   ]
  },
  {
   "cell_type": "code",
   "execution_count": null,
   "metadata": {},
   "outputs": [],
   "source": []
  }
 ],
 "metadata": {
  "kernelspec": {
   "display_name": "birdclef",
   "language": "python",
   "name": "python3"
  },
  "language_info": {
   "codemirror_mode": {
    "name": "ipython",
    "version": 3
   },
   "file_extension": ".py",
   "mimetype": "text/x-python",
   "name": "python",
   "nbconvert_exporter": "python",
   "pygments_lexer": "ipython3",
   "version": "3.10.1"
  }
 },
 "nbformat": 4,
 "nbformat_minor": 2
}
