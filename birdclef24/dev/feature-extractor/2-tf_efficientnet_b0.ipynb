{
 "cells": [
  {
   "cell_type": "code",
   "execution_count": 1,
   "metadata": {},
   "outputs": [],
   "source": [
    "import pandas as pd\n",
    "import numpy as np\n",
    "import glob\n",
    "import os\n",
    "import matplotlib.pyplot as plt\n",
    "import random\n",
    "from typing import List\n",
    "from torchaudio.transforms import MelSpectrogram, AmplitudeToDB\n",
    "\n",
    "import torchaudio\n",
    "\n",
    "import torch\n",
    "\n",
    "from torch.utils.data import Dataset, DataLoader,TensorDataset,random_split\n",
    "\n",
    "import lightning as L\n",
    "\n",
    "from sklearn.preprocessing import LabelEncoder\n",
    "\n",
    "import torch.nn as nn\n",
    "import torch\n",
    "import torch.nn.functional as F\n",
    "\n",
    "\n",
    "import torchmetrics\n",
    "\n",
    "from lightning.pytorch.callbacks  import ModelCheckpoint, EarlyStopping\n",
    "import torch.optim as optim"
   ]
  },
  {
   "cell_type": "code",
   "execution_count": 2,
   "metadata": {},
   "outputs": [
    {
     "name": "stderr",
     "output_type": "stream",
     "text": [
      "/opt/homebrew/Caskroom/miniforge/base/envs/birdclef/lib/python3.10/site-packages/tqdm/auto.py:21: TqdmWarning: IProgress not found. Please update jupyter and ipywidgets. See https://ipywidgets.readthedocs.io/en/stable/user_install.html\n",
      "  from .autonotebook import tqdm as notebook_tqdm\n"
     ]
    }
   ],
   "source": [
    "import timm\n",
    "from torchinfo import summary"
   ]
  },
  {
   "cell_type": "code",
   "execution_count": 3,
   "metadata": {},
   "outputs": [
    {
     "name": "stdout",
     "output_type": "stream",
     "text": [
      "mps\n"
     ]
    }
   ],
   "source": [
    "has_mps = torch.backends.mps.is_built()\n",
    "device = \"mps\" if has_mps else \"cuda\" if torch.cuda.is_available() else \"cpu\"\n",
    "print(device)"
   ]
  },
  {
   "cell_type": "code",
   "execution_count": 4,
   "metadata": {},
   "outputs": [],
   "source": [
    "# 加载预训练模型\n",
    "model = timm.create_model('tf_efficientnet_b0', pretrained=True)"
   ]
  },
  {
   "cell_type": "code",
   "execution_count": 5,
   "metadata": {},
   "outputs": [
    {
     "data": {
      "text/plain": [
       "===============================================================================================\n",
       "Layer (type:depth-idx)                        Output Shape              Param #\n",
       "===============================================================================================\n",
       "EfficientNet                                  [128, 1000]               --\n",
       "├─Conv2dSame: 1-1                             [128, 32, 20, 251]        864\n",
       "├─BatchNormAct2d: 1-2                         [128, 32, 20, 251]        64\n",
       "│    └─Identity: 2-1                          [128, 32, 20, 251]        --\n",
       "│    └─SiLU: 2-2                              [128, 32, 20, 251]        --\n",
       "├─Sequential: 1-3                             [128, 320, 2, 16]         --\n",
       "│    └─Sequential: 2-3                        [128, 16, 20, 251]        --\n",
       "│    │    └─DepthwiseSeparableConv: 3-1       [128, 16, 20, 251]        1,448\n",
       "│    └─Sequential: 2-4                        [128, 24, 10, 126]        --\n",
       "│    │    └─InvertedResidual: 3-2             [128, 24, 10, 126]        6,004\n",
       "│    │    └─InvertedResidual: 3-3             [128, 24, 10, 126]        10,710\n",
       "│    └─Sequential: 2-5                        [128, 40, 5, 63]          --\n",
       "│    │    └─InvertedResidual: 3-4             [128, 40, 5, 63]          15,350\n",
       "│    │    └─InvertedResidual: 3-5             [128, 40, 5, 63]          31,290\n",
       "│    └─Sequential: 2-6                        [128, 80, 3, 32]          --\n",
       "│    │    └─InvertedResidual: 3-6             [128, 80, 3, 32]          37,130\n",
       "│    │    └─InvertedResidual: 3-7             [128, 80, 3, 32]          102,900\n",
       "│    │    └─InvertedResidual: 3-8             [128, 80, 3, 32]          102,900\n",
       "│    └─Sequential: 2-7                        [128, 112, 3, 32]         --\n",
       "│    │    └─InvertedResidual: 3-9             [128, 112, 3, 32]         126,004\n",
       "│    │    └─InvertedResidual: 3-10            [128, 112, 3, 32]         208,572\n",
       "│    │    └─InvertedResidual: 3-11            [128, 112, 3, 32]         208,572\n",
       "│    └─Sequential: 2-8                        [128, 192, 2, 16]         --\n",
       "│    │    └─InvertedResidual: 3-12            [128, 192, 2, 16]         262,492\n",
       "│    │    └─InvertedResidual: 3-13            [128, 192, 2, 16]         587,952\n",
       "│    │    └─InvertedResidual: 3-14            [128, 192, 2, 16]         587,952\n",
       "│    │    └─InvertedResidual: 3-15            [128, 192, 2, 16]         587,952\n",
       "│    └─Sequential: 2-9                        [128, 320, 2, 16]         --\n",
       "│    │    └─InvertedResidual: 3-16            [128, 320, 2, 16]         717,232\n",
       "├─Conv2d: 1-4                                 [128, 1280, 2, 16]        409,600\n",
       "├─BatchNormAct2d: 1-5                         [128, 1280, 2, 16]        2,560\n",
       "│    └─Identity: 2-10                         [128, 1280, 2, 16]        --\n",
       "│    └─SiLU: 2-11                             [128, 1280, 2, 16]        --\n",
       "├─SelectAdaptivePool2d: 1-6                   [128, 1280]               --\n",
       "│    └─AdaptiveAvgPool2d: 2-12                [128, 1280, 1, 1]         --\n",
       "│    └─Flatten: 2-13                          [128, 1280]               --\n",
       "├─Linear: 1-7                                 [128, 1000]               1,281,000\n",
       "===============================================================================================\n",
       "Total params: 5,288,548\n",
       "Trainable params: 5,288,548\n",
       "Non-trainable params: 0\n",
       "Total mult-adds (G): 25.57\n",
       "===============================================================================================\n",
       "Input size (MB): 30.78\n",
       "Forward/backward pass size (MB): 3058.23\n",
       "Params size (MB): 20.99\n",
       "Estimated Total Size (MB): 3109.99\n",
       "==============================================================================================="
      ]
     },
     "execution_count": 5,
     "metadata": {},
     "output_type": "execute_result"
    }
   ],
   "source": [
    "summary(model,input_size=(128,3,40,501))"
   ]
  },
  {
   "cell_type": "code",
   "execution_count": null,
   "metadata": {},
   "outputs": [],
   "source": []
  }
 ],
 "metadata": {
  "kernelspec": {
   "display_name": "birdclef",
   "language": "python",
   "name": "python3"
  },
  "language_info": {
   "codemirror_mode": {
    "name": "ipython",
    "version": 3
   },
   "file_extension": ".py",
   "mimetype": "text/x-python",
   "name": "python",
   "nbconvert_exporter": "python",
   "pygments_lexer": "ipython3",
   "version": "3.10.1"
  }
 },
 "nbformat": 4,
 "nbformat_minor": 2
}
